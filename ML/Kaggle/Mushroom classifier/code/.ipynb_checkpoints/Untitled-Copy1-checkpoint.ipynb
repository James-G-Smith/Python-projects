{
 "cells": [
  {
   "cell_type": "markdown",
   "id": "d8066877",
   "metadata": {},
   "source": [
    "# Tech Task"
   ]
  },
  {
   "cell_type": "markdown",
   "id": "a06a7e26",
   "metadata": {},
   "source": [
    "## Preliminary Investigation "
   ]
  },
  {
   "cell_type": "code",
   "execution_count": 848,
   "id": "4447315b",
   "metadata": {},
   "outputs": [],
   "source": [
    "#Import packages\n",
    "import pandas as pd\n",
    "import seaborn as sns\n",
    "import numpy as np\n",
    "import matplotlib.pyplot as plt\n",
    "from sklearn.model_selection import train_test_split\n",
    "from sklearn.utils import shuffle\n",
    "from sklearn.tree import DecisionTreeClassifier, plot_tree\n",
    "from sklearn.metrics import classification_report, confusion_matrix, precision_recall_curve, auc, roc_curve\n",
    "from sklearn.metrics import make_scorer, accuracy_score, classification_report\n",
    "from sklearn.preprocessing import LabelEncoder\n",
    "from sklearn.model_selection import ParameterGrid, GridSearchCV"
   ]
  },
  {
   "cell_type": "code",
   "execution_count": 849,
   "id": "0c15efb8",
   "metadata": {},
   "outputs": [],
   "source": [
    "#read the data file using Pandas \n",
    "df = pd.read_csv(\"..\\\\data\\\\secondary_data.csv\", sep=';')"
   ]
  },
  {
   "cell_type": "markdown",
   "id": "0531a9a6",
   "metadata": {},
   "source": [
    "## Attribute Information:\n",
    "\n",
    "One binary class divided in edible=e and poisonous=p (with the latter one also containing mushrooms of unknown edibility).\n",
    "Twenty remaining variables (n: nominal, m: metrical)\n",
    "1. cap-diameter (m): float number in cm\n",
    "2. cap-shape (n): bell=b, conical=c, convex=x, flat=f,\n",
    "sunken=s, spherical=p, others=o\n",
    "3. cap-surface (n): fibrous=i, grooves=g, scaly=y, smooth=s,\n",
    "shiny=h, leathery=l, silky=k, sticky=t,\n",
    "wrinkled=w, fleshy=e\n",
    "4. cap-color (n): brown=n, buff=b, gray=g, green=r, pink=p,\n",
    "purple=u, red=e, white=w, yellow=y, blue=l,\n",
    "orange=o, black=k\n",
    "5. does-bruise-bleed (n): bruises-or-bleeding=t,no=f\n",
    "6. gill-attachment (n): adnate=a, adnexed=x, decurrent=d, free=e,\n",
    "sinuate=s, pores=p, none=f, unknown=?\n",
    "7. gill-spacing (n): close=c, distant=d, none=f\n",
    "8. gill-color (n): see cap-color + none=f\n",
    "9. stem-height (m): float number in cm\n",
    "10. stem-width (m): float number in mm\n",
    "11. stem-root (n): bulbous=b, swollen=s, club=c, cup=u, equal=e,\n",
    "rhizomorphs=z, rooted=r\n",
    "12. stem-surface (n): see cap-surface + none=f\n",
    "13. stem-color (n): see cap-color + none=f\n",
    "14. veil-type (n): partial=p, universal=u\n",
    "15. veil-color (n): see cap-color + none=f\n",
    "16. has-ring (n): ring=t, none=f\n",
    "17. ring-type (n): cobwebby=c, evanescent=e, flaring=r, grooved=g,\n",
    "large=l, pendant=p, sheathing=s, zone=z, scaly=y, movable=m, none=f, unknown=?\n",
    "18. spore-print-color (n): see cap color\n",
    "19. habitat (n): grasses=g, leaves=l, meadows=m, paths=p, heaths=h,\n",
    "urban=u, waste=w, woods=d\n",
    "20. season (n): spring=s, summer=u, autumn=a, winter=w"
   ]
  },
  {
   "cell_type": "markdown",
   "id": "47e89f58",
   "metadata": {},
   "source": [
    "## Understand"
   ]
  },
  {
   "cell_type": "code",
   "execution_count": 850,
   "id": "dfa289bb",
   "metadata": {},
   "outputs": [],
   "source": [
    "#changing the max display count for the columns\n",
    "pd.options.display.max_columns = None"
   ]
  },
  {
   "cell_type": "code",
   "execution_count": 851,
   "id": "653172be",
   "metadata": {},
   "outputs": [
    {
     "data": {
      "text/html": [
       "<div>\n",
       "<style scoped>\n",
       "    .dataframe tbody tr th:only-of-type {\n",
       "        vertical-align: middle;\n",
       "    }\n",
       "\n",
       "    .dataframe tbody tr th {\n",
       "        vertical-align: top;\n",
       "    }\n",
       "\n",
       "    .dataframe thead th {\n",
       "        text-align: right;\n",
       "    }\n",
       "</style>\n",
       "<table border=\"1\" class=\"dataframe\">\n",
       "  <thead>\n",
       "    <tr style=\"text-align: right;\">\n",
       "      <th></th>\n",
       "      <th>class</th>\n",
       "      <th>cap-diameter</th>\n",
       "      <th>cap-shape</th>\n",
       "      <th>cap-surface</th>\n",
       "      <th>cap-color</th>\n",
       "      <th>does-bruise-or-bleed</th>\n",
       "      <th>gill-attachment</th>\n",
       "      <th>gill-spacing</th>\n",
       "      <th>gill-color</th>\n",
       "      <th>stem-height</th>\n",
       "      <th>stem-width</th>\n",
       "      <th>stem-root</th>\n",
       "      <th>stem-surface</th>\n",
       "      <th>stem-color</th>\n",
       "      <th>veil-type</th>\n",
       "      <th>veil-color</th>\n",
       "      <th>has-ring</th>\n",
       "      <th>ring-type</th>\n",
       "      <th>spore-print-color</th>\n",
       "      <th>habitat</th>\n",
       "      <th>season</th>\n",
       "    </tr>\n",
       "  </thead>\n",
       "  <tbody>\n",
       "    <tr>\n",
       "      <th>0</th>\n",
       "      <td>p</td>\n",
       "      <td>15.26</td>\n",
       "      <td>x</td>\n",
       "      <td>g</td>\n",
       "      <td>o</td>\n",
       "      <td>f</td>\n",
       "      <td>e</td>\n",
       "      <td>NaN</td>\n",
       "      <td>w</td>\n",
       "      <td>16.95</td>\n",
       "      <td>17.09</td>\n",
       "      <td>s</td>\n",
       "      <td>y</td>\n",
       "      <td>w</td>\n",
       "      <td>u</td>\n",
       "      <td>w</td>\n",
       "      <td>t</td>\n",
       "      <td>g</td>\n",
       "      <td>NaN</td>\n",
       "      <td>d</td>\n",
       "      <td>w</td>\n",
       "    </tr>\n",
       "    <tr>\n",
       "      <th>1</th>\n",
       "      <td>p</td>\n",
       "      <td>16.60</td>\n",
       "      <td>x</td>\n",
       "      <td>g</td>\n",
       "      <td>o</td>\n",
       "      <td>f</td>\n",
       "      <td>e</td>\n",
       "      <td>NaN</td>\n",
       "      <td>w</td>\n",
       "      <td>17.99</td>\n",
       "      <td>18.19</td>\n",
       "      <td>s</td>\n",
       "      <td>y</td>\n",
       "      <td>w</td>\n",
       "      <td>u</td>\n",
       "      <td>w</td>\n",
       "      <td>t</td>\n",
       "      <td>g</td>\n",
       "      <td>NaN</td>\n",
       "      <td>d</td>\n",
       "      <td>u</td>\n",
       "    </tr>\n",
       "    <tr>\n",
       "      <th>2</th>\n",
       "      <td>p</td>\n",
       "      <td>14.07</td>\n",
       "      <td>x</td>\n",
       "      <td>g</td>\n",
       "      <td>o</td>\n",
       "      <td>f</td>\n",
       "      <td>e</td>\n",
       "      <td>NaN</td>\n",
       "      <td>w</td>\n",
       "      <td>17.80</td>\n",
       "      <td>17.74</td>\n",
       "      <td>s</td>\n",
       "      <td>y</td>\n",
       "      <td>w</td>\n",
       "      <td>u</td>\n",
       "      <td>w</td>\n",
       "      <td>t</td>\n",
       "      <td>g</td>\n",
       "      <td>NaN</td>\n",
       "      <td>d</td>\n",
       "      <td>w</td>\n",
       "    </tr>\n",
       "    <tr>\n",
       "      <th>3</th>\n",
       "      <td>p</td>\n",
       "      <td>14.17</td>\n",
       "      <td>f</td>\n",
       "      <td>h</td>\n",
       "      <td>e</td>\n",
       "      <td>f</td>\n",
       "      <td>e</td>\n",
       "      <td>NaN</td>\n",
       "      <td>w</td>\n",
       "      <td>15.77</td>\n",
       "      <td>15.98</td>\n",
       "      <td>s</td>\n",
       "      <td>y</td>\n",
       "      <td>w</td>\n",
       "      <td>u</td>\n",
       "      <td>w</td>\n",
       "      <td>t</td>\n",
       "      <td>p</td>\n",
       "      <td>NaN</td>\n",
       "      <td>d</td>\n",
       "      <td>w</td>\n",
       "    </tr>\n",
       "    <tr>\n",
       "      <th>4</th>\n",
       "      <td>p</td>\n",
       "      <td>14.64</td>\n",
       "      <td>x</td>\n",
       "      <td>h</td>\n",
       "      <td>o</td>\n",
       "      <td>f</td>\n",
       "      <td>e</td>\n",
       "      <td>NaN</td>\n",
       "      <td>w</td>\n",
       "      <td>16.53</td>\n",
       "      <td>17.20</td>\n",
       "      <td>s</td>\n",
       "      <td>y</td>\n",
       "      <td>w</td>\n",
       "      <td>u</td>\n",
       "      <td>w</td>\n",
       "      <td>t</td>\n",
       "      <td>p</td>\n",
       "      <td>NaN</td>\n",
       "      <td>d</td>\n",
       "      <td>w</td>\n",
       "    </tr>\n",
       "    <tr>\n",
       "      <th>...</th>\n",
       "      <td>...</td>\n",
       "      <td>...</td>\n",
       "      <td>...</td>\n",
       "      <td>...</td>\n",
       "      <td>...</td>\n",
       "      <td>...</td>\n",
       "      <td>...</td>\n",
       "      <td>...</td>\n",
       "      <td>...</td>\n",
       "      <td>...</td>\n",
       "      <td>...</td>\n",
       "      <td>...</td>\n",
       "      <td>...</td>\n",
       "      <td>...</td>\n",
       "      <td>...</td>\n",
       "      <td>...</td>\n",
       "      <td>...</td>\n",
       "      <td>...</td>\n",
       "      <td>...</td>\n",
       "      <td>...</td>\n",
       "      <td>...</td>\n",
       "    </tr>\n",
       "    <tr>\n",
       "      <th>95</th>\n",
       "      <td>p</td>\n",
       "      <td>12.16</td>\n",
       "      <td>x</td>\n",
       "      <td>h</td>\n",
       "      <td>e</td>\n",
       "      <td>f</td>\n",
       "      <td>e</td>\n",
       "      <td>NaN</td>\n",
       "      <td>w</td>\n",
       "      <td>17.46</td>\n",
       "      <td>17.51</td>\n",
       "      <td>s</td>\n",
       "      <td>y</td>\n",
       "      <td>w</td>\n",
       "      <td>u</td>\n",
       "      <td>w</td>\n",
       "      <td>t</td>\n",
       "      <td>g</td>\n",
       "      <td>NaN</td>\n",
       "      <td>d</td>\n",
       "      <td>u</td>\n",
       "    </tr>\n",
       "    <tr>\n",
       "      <th>96</th>\n",
       "      <td>p</td>\n",
       "      <td>16.04</td>\n",
       "      <td>f</td>\n",
       "      <td>h</td>\n",
       "      <td>o</td>\n",
       "      <td>f</td>\n",
       "      <td>e</td>\n",
       "      <td>NaN</td>\n",
       "      <td>w</td>\n",
       "      <td>17.39</td>\n",
       "      <td>17.19</td>\n",
       "      <td>s</td>\n",
       "      <td>y</td>\n",
       "      <td>w</td>\n",
       "      <td>u</td>\n",
       "      <td>w</td>\n",
       "      <td>t</td>\n",
       "      <td>p</td>\n",
       "      <td>NaN</td>\n",
       "      <td>d</td>\n",
       "      <td>u</td>\n",
       "    </tr>\n",
       "    <tr>\n",
       "      <th>97</th>\n",
       "      <td>p</td>\n",
       "      <td>16.31</td>\n",
       "      <td>f</td>\n",
       "      <td>h</td>\n",
       "      <td>e</td>\n",
       "      <td>f</td>\n",
       "      <td>e</td>\n",
       "      <td>NaN</td>\n",
       "      <td>w</td>\n",
       "      <td>17.15</td>\n",
       "      <td>17.05</td>\n",
       "      <td>s</td>\n",
       "      <td>y</td>\n",
       "      <td>w</td>\n",
       "      <td>u</td>\n",
       "      <td>w</td>\n",
       "      <td>t</td>\n",
       "      <td>g</td>\n",
       "      <td>NaN</td>\n",
       "      <td>d</td>\n",
       "      <td>u</td>\n",
       "    </tr>\n",
       "    <tr>\n",
       "      <th>98</th>\n",
       "      <td>p</td>\n",
       "      <td>15.35</td>\n",
       "      <td>f</td>\n",
       "      <td>g</td>\n",
       "      <td>o</td>\n",
       "      <td>f</td>\n",
       "      <td>e</td>\n",
       "      <td>NaN</td>\n",
       "      <td>w</td>\n",
       "      <td>17.89</td>\n",
       "      <td>18.21</td>\n",
       "      <td>s</td>\n",
       "      <td>y</td>\n",
       "      <td>w</td>\n",
       "      <td>u</td>\n",
       "      <td>w</td>\n",
       "      <td>t</td>\n",
       "      <td>g</td>\n",
       "      <td>NaN</td>\n",
       "      <td>d</td>\n",
       "      <td>u</td>\n",
       "    </tr>\n",
       "    <tr>\n",
       "      <th>99</th>\n",
       "      <td>p</td>\n",
       "      <td>11.17</td>\n",
       "      <td>x</td>\n",
       "      <td>h</td>\n",
       "      <td>o</td>\n",
       "      <td>f</td>\n",
       "      <td>e</td>\n",
       "      <td>NaN</td>\n",
       "      <td>w</td>\n",
       "      <td>16.44</td>\n",
       "      <td>16.12</td>\n",
       "      <td>s</td>\n",
       "      <td>y</td>\n",
       "      <td>w</td>\n",
       "      <td>u</td>\n",
       "      <td>w</td>\n",
       "      <td>t</td>\n",
       "      <td>g</td>\n",
       "      <td>NaN</td>\n",
       "      <td>d</td>\n",
       "      <td>a</td>\n",
       "    </tr>\n",
       "  </tbody>\n",
       "</table>\n",
       "<p>100 rows × 21 columns</p>\n",
       "</div>"
      ],
      "text/plain": [
       "   class  cap-diameter cap-shape cap-surface cap-color does-bruise-or-bleed  \\\n",
       "0      p         15.26         x           g         o                    f   \n",
       "1      p         16.60         x           g         o                    f   \n",
       "2      p         14.07         x           g         o                    f   \n",
       "3      p         14.17         f           h         e                    f   \n",
       "4      p         14.64         x           h         o                    f   \n",
       "..   ...           ...       ...         ...       ...                  ...   \n",
       "95     p         12.16         x           h         e                    f   \n",
       "96     p         16.04         f           h         o                    f   \n",
       "97     p         16.31         f           h         e                    f   \n",
       "98     p         15.35         f           g         o                    f   \n",
       "99     p         11.17         x           h         o                    f   \n",
       "\n",
       "   gill-attachment gill-spacing gill-color  stem-height  stem-width stem-root  \\\n",
       "0                e          NaN          w        16.95       17.09         s   \n",
       "1                e          NaN          w        17.99       18.19         s   \n",
       "2                e          NaN          w        17.80       17.74         s   \n",
       "3                e          NaN          w        15.77       15.98         s   \n",
       "4                e          NaN          w        16.53       17.20         s   \n",
       "..             ...          ...        ...          ...         ...       ...   \n",
       "95               e          NaN          w        17.46       17.51         s   \n",
       "96               e          NaN          w        17.39       17.19         s   \n",
       "97               e          NaN          w        17.15       17.05         s   \n",
       "98               e          NaN          w        17.89       18.21         s   \n",
       "99               e          NaN          w        16.44       16.12         s   \n",
       "\n",
       "   stem-surface stem-color veil-type veil-color has-ring ring-type  \\\n",
       "0             y          w         u          w        t         g   \n",
       "1             y          w         u          w        t         g   \n",
       "2             y          w         u          w        t         g   \n",
       "3             y          w         u          w        t         p   \n",
       "4             y          w         u          w        t         p   \n",
       "..          ...        ...       ...        ...      ...       ...   \n",
       "95            y          w         u          w        t         g   \n",
       "96            y          w         u          w        t         p   \n",
       "97            y          w         u          w        t         g   \n",
       "98            y          w         u          w        t         g   \n",
       "99            y          w         u          w        t         g   \n",
       "\n",
       "   spore-print-color habitat season  \n",
       "0                NaN       d      w  \n",
       "1                NaN       d      u  \n",
       "2                NaN       d      w  \n",
       "3                NaN       d      w  \n",
       "4                NaN       d      w  \n",
       "..               ...     ...    ...  \n",
       "95               NaN       d      u  \n",
       "96               NaN       d      u  \n",
       "97               NaN       d      u  \n",
       "98               NaN       d      u  \n",
       "99               NaN       d      a  \n",
       "\n",
       "[100 rows x 21 columns]"
      ]
     },
     "execution_count": 851,
     "metadata": {},
     "output_type": "execute_result"
    }
   ],
   "source": [
    "#look at the first 100 values\n",
    "df.head(100)"
   ]
  },
  {
   "cell_type": "code",
   "execution_count": 852,
   "id": "da593d4b",
   "metadata": {},
   "outputs": [
    {
     "name": "stdout",
     "output_type": "stream",
     "text": [
      "Dataset shape: (61069, 21)\n"
     ]
    }
   ],
   "source": [
    "#look at the shape\n",
    "print(\"Dataset shape:\", df.shape)"
   ]
  },
  {
   "cell_type": "code",
   "execution_count": 853,
   "id": "14aa51a2",
   "metadata": {},
   "outputs": [
    {
     "data": {
      "text/plain": [
       "class                       0\n",
       "cap-diameter                0\n",
       "cap-shape                   0\n",
       "cap-surface             14120\n",
       "cap-color                   0\n",
       "does-bruise-or-bleed        0\n",
       "gill-attachment          9884\n",
       "gill-spacing            25063\n",
       "gill-color                  0\n",
       "stem-height                 0\n",
       "stem-width                  0\n",
       "stem-root               51538\n",
       "stem-surface            38124\n",
       "stem-color                  0\n",
       "veil-type               57892\n",
       "veil-color              53656\n",
       "has-ring                    0\n",
       "ring-type                2471\n",
       "spore-print-color       54715\n",
       "habitat                     0\n",
       "season                      0\n",
       "dtype: int64"
      ]
     },
     "execution_count": 853,
     "metadata": {},
     "output_type": "execute_result"
    }
   ],
   "source": [
    "#counting the nulls in each header\n",
    "df.isnull().sum()"
   ]
  },
  {
   "cell_type": "code",
   "execution_count": 854,
   "id": "35a8a8e1",
   "metadata": {},
   "outputs": [
    {
     "data": {
      "text/plain": [
       "307463"
      ]
     },
     "execution_count": 854,
     "metadata": {},
     "output_type": "execute_result"
    }
   ],
   "source": [
    "#the totla number of nulls\n",
    "df.isnull().sum().sum()"
   ]
  },
  {
   "cell_type": "code",
   "execution_count": 855,
   "id": "44225577",
   "metadata": {},
   "outputs": [
    {
     "data": {
      "text/html": [
       "<div>\n",
       "<style scoped>\n",
       "    .dataframe tbody tr th:only-of-type {\n",
       "        vertical-align: middle;\n",
       "    }\n",
       "\n",
       "    .dataframe tbody tr th {\n",
       "        vertical-align: top;\n",
       "    }\n",
       "\n",
       "    .dataframe thead th {\n",
       "        text-align: right;\n",
       "    }\n",
       "</style>\n",
       "<table border=\"1\" class=\"dataframe\">\n",
       "  <thead>\n",
       "    <tr style=\"text-align: right;\">\n",
       "      <th></th>\n",
       "      <th>cap-diameter</th>\n",
       "      <th>stem-height</th>\n",
       "      <th>stem-width</th>\n",
       "    </tr>\n",
       "  </thead>\n",
       "  <tbody>\n",
       "    <tr>\n",
       "      <th>count</th>\n",
       "      <td>61069.000000</td>\n",
       "      <td>61069.000000</td>\n",
       "      <td>61069.000000</td>\n",
       "    </tr>\n",
       "    <tr>\n",
       "      <th>mean</th>\n",
       "      <td>6.733854</td>\n",
       "      <td>6.581538</td>\n",
       "      <td>12.149410</td>\n",
       "    </tr>\n",
       "    <tr>\n",
       "      <th>std</th>\n",
       "      <td>5.264845</td>\n",
       "      <td>3.370017</td>\n",
       "      <td>10.035955</td>\n",
       "    </tr>\n",
       "    <tr>\n",
       "      <th>min</th>\n",
       "      <td>0.380000</td>\n",
       "      <td>0.000000</td>\n",
       "      <td>0.000000</td>\n",
       "    </tr>\n",
       "    <tr>\n",
       "      <th>25%</th>\n",
       "      <td>3.480000</td>\n",
       "      <td>4.640000</td>\n",
       "      <td>5.210000</td>\n",
       "    </tr>\n",
       "    <tr>\n",
       "      <th>50%</th>\n",
       "      <td>5.860000</td>\n",
       "      <td>5.950000</td>\n",
       "      <td>10.190000</td>\n",
       "    </tr>\n",
       "    <tr>\n",
       "      <th>75%</th>\n",
       "      <td>8.540000</td>\n",
       "      <td>7.740000</td>\n",
       "      <td>16.570000</td>\n",
       "    </tr>\n",
       "    <tr>\n",
       "      <th>max</th>\n",
       "      <td>62.340000</td>\n",
       "      <td>33.920000</td>\n",
       "      <td>103.910000</td>\n",
       "    </tr>\n",
       "  </tbody>\n",
       "</table>\n",
       "</div>"
      ],
      "text/plain": [
       "       cap-diameter   stem-height    stem-width\n",
       "count  61069.000000  61069.000000  61069.000000\n",
       "mean       6.733854      6.581538     12.149410\n",
       "std        5.264845      3.370017     10.035955\n",
       "min        0.380000      0.000000      0.000000\n",
       "25%        3.480000      4.640000      5.210000\n",
       "50%        5.860000      5.950000     10.190000\n",
       "75%        8.540000      7.740000     16.570000\n",
       "max       62.340000     33.920000    103.910000"
      ]
     },
     "execution_count": 855,
     "metadata": {},
     "output_type": "execute_result"
    }
   ],
   "source": [
    "#first look at the aggregated data. We can see that none of the numercial fields are normalised.\n",
    "df.describe()"
   ]
  },
  {
   "cell_type": "code",
   "execution_count": 856,
   "id": "175f6cf8",
   "metadata": {},
   "outputs": [
    {
     "name": "stdout",
     "output_type": "stream",
     "text": [
      "column name: class ['p' 'e']\n",
      "column name: cap-diameter [15.26 16.6  14.07 ... 22.85 21.8  20.42]\n",
      "column name: cap-shape ['x' 'f' 'p' 'b' 'c' 's' 'o']\n",
      "column name: cap-surface ['g' 'h' nan 't' 'y' 'e' 's' 'l' 'd' 'w' 'i' 'k']\n",
      "column name: cap-color ['o' 'e' 'n' 'g' 'r' 'w' 'y' 'p' 'u' 'b' 'l' 'k']\n",
      "column name: does-bruise-or-bleed ['f' 't']\n",
      "column name: gill-attachment ['e' nan 'a' 'd' 's' 'x' 'p' 'f']\n",
      "column name: gill-spacing [nan 'c' 'd' 'f']\n",
      "column name: gill-color ['w' 'n' 'p' 'u' 'b' 'g' 'y' 'r' 'e' 'o' 'k' 'f']\n",
      "column name: stem-height [16.95 17.99 17.8  ...  1.23  1.16  0.  ]\n",
      "column name: stem-width [17.09 18.19 17.74 ... 32.59 30.99 30.51]\n",
      "column name: stem-root ['s' nan 'b' 'r' 'c' 'f']\n",
      "column name: stem-surface ['y' nan 's' 'k' 'i' 'h' 't' 'g' 'f']\n",
      "column name: stem-color ['w' 'y' 'n' 'u' 'b' 'l' 'r' 'p' 'e' 'k' 'g' 'o' 'f']\n",
      "column name: veil-type ['u' nan]\n",
      "column name: veil-color ['w' 'y' nan 'n' 'e' 'u' 'k']\n",
      "column name: has-ring ['t' 'f']\n",
      "column name: ring-type ['g' 'p' 'e' 'l' 'f' 'm' nan 'r' 'z']\n",
      "column name: spore-print-color [nan 'w' 'p' 'k' 'r' 'u' 'n' 'g']\n",
      "column name: habitat ['d' 'm' 'g' 'h' 'l' 'p' 'w' 'u']\n",
      "column name: season ['w' 'u' 'a' 's']\n"
     ]
    }
   ],
   "source": [
    "#for loop to see which headers contain only one value\n",
    "for col in df.columns:\n",
    "    print(\"column name: {}\".format(col) + \" {}\".format(df[col].unique()))"
   ]
  },
  {
   "cell_type": "code",
   "execution_count": 857,
   "id": "c1e09ace",
   "metadata": {},
   "outputs": [],
   "source": [
    "#df = df.drop(columns=['veil-type','veil-color','spore-print-color','stem-root'])"
   ]
  },
  {
   "cell_type": "code",
   "execution_count": 858,
   "id": "4436bcc6",
   "metadata": {},
   "outputs": [
    {
     "data": {
      "text/plain": [
       "class                    object\n",
       "cap-diameter            float64\n",
       "cap-shape                object\n",
       "cap-surface              object\n",
       "cap-color                object\n",
       "does-bruise-or-bleed     object\n",
       "gill-attachment          object\n",
       "gill-spacing             object\n",
       "gill-color               object\n",
       "stem-height             float64\n",
       "stem-width              float64\n",
       "stem-root                object\n",
       "stem-surface             object\n",
       "stem-color               object\n",
       "veil-type                object\n",
       "veil-color               object\n",
       "has-ring                 object\n",
       "ring-type                object\n",
       "spore-print-color        object\n",
       "habitat                  object\n",
       "season                   object\n",
       "dtype: object"
      ]
     },
     "execution_count": 858,
     "metadata": {},
     "output_type": "execute_result"
    }
   ],
   "source": [
    "df.dtypes"
   ]
  },
  {
   "cell_type": "markdown",
   "id": "19640609",
   "metadata": {},
   "source": [
    "## Cleaning"
   ]
  },
  {
   "cell_type": "code",
   "execution_count": 859,
   "id": "92c92f13",
   "metadata": {},
   "outputs": [],
   "source": [
    "df = df.drop(columns = ['veil-type'])"
   ]
  },
  {
   "cell_type": "code",
   "execution_count": 860,
   "id": "1c1917bc",
   "metadata": {},
   "outputs": [
    {
     "data": {
      "text/html": [
       "<div>\n",
       "<style scoped>\n",
       "    .dataframe tbody tr th:only-of-type {\n",
       "        vertical-align: middle;\n",
       "    }\n",
       "\n",
       "    .dataframe tbody tr th {\n",
       "        vertical-align: top;\n",
       "    }\n",
       "\n",
       "    .dataframe thead th {\n",
       "        text-align: right;\n",
       "    }\n",
       "</style>\n",
       "<table border=\"1\" class=\"dataframe\">\n",
       "  <thead>\n",
       "    <tr style=\"text-align: right;\">\n",
       "      <th></th>\n",
       "      <th>class</th>\n",
       "      <th>cap-diameter</th>\n",
       "      <th>cap-shape</th>\n",
       "      <th>cap-surface</th>\n",
       "      <th>cap-color</th>\n",
       "      <th>does-bruise-or-bleed</th>\n",
       "      <th>gill-attachment</th>\n",
       "      <th>gill-spacing</th>\n",
       "      <th>gill-color</th>\n",
       "      <th>stem-height</th>\n",
       "      <th>stem-width</th>\n",
       "      <th>stem-root</th>\n",
       "      <th>stem-surface</th>\n",
       "      <th>stem-color</th>\n",
       "      <th>veil-color</th>\n",
       "      <th>has-ring</th>\n",
       "      <th>ring-type</th>\n",
       "      <th>spore-print-color</th>\n",
       "      <th>habitat</th>\n",
       "      <th>season</th>\n",
       "    </tr>\n",
       "  </thead>\n",
       "  <tbody>\n",
       "    <tr>\n",
       "      <th>0</th>\n",
       "      <td>p</td>\n",
       "      <td>15.26</td>\n",
       "      <td>x</td>\n",
       "      <td>g</td>\n",
       "      <td>o</td>\n",
       "      <td>f</td>\n",
       "      <td>e</td>\n",
       "      <td>NaN</td>\n",
       "      <td>w</td>\n",
       "      <td>16.95</td>\n",
       "      <td>17.09</td>\n",
       "      <td>s</td>\n",
       "      <td>y</td>\n",
       "      <td>w</td>\n",
       "      <td>w</td>\n",
       "      <td>t</td>\n",
       "      <td>g</td>\n",
       "      <td>NaN</td>\n",
       "      <td>d</td>\n",
       "      <td>w</td>\n",
       "    </tr>\n",
       "    <tr>\n",
       "      <th>1</th>\n",
       "      <td>p</td>\n",
       "      <td>16.60</td>\n",
       "      <td>x</td>\n",
       "      <td>g</td>\n",
       "      <td>o</td>\n",
       "      <td>f</td>\n",
       "      <td>e</td>\n",
       "      <td>NaN</td>\n",
       "      <td>w</td>\n",
       "      <td>17.99</td>\n",
       "      <td>18.19</td>\n",
       "      <td>s</td>\n",
       "      <td>y</td>\n",
       "      <td>w</td>\n",
       "      <td>w</td>\n",
       "      <td>t</td>\n",
       "      <td>g</td>\n",
       "      <td>NaN</td>\n",
       "      <td>d</td>\n",
       "      <td>u</td>\n",
       "    </tr>\n",
       "    <tr>\n",
       "      <th>2</th>\n",
       "      <td>p</td>\n",
       "      <td>14.07</td>\n",
       "      <td>x</td>\n",
       "      <td>g</td>\n",
       "      <td>o</td>\n",
       "      <td>f</td>\n",
       "      <td>e</td>\n",
       "      <td>NaN</td>\n",
       "      <td>w</td>\n",
       "      <td>17.80</td>\n",
       "      <td>17.74</td>\n",
       "      <td>s</td>\n",
       "      <td>y</td>\n",
       "      <td>w</td>\n",
       "      <td>w</td>\n",
       "      <td>t</td>\n",
       "      <td>g</td>\n",
       "      <td>NaN</td>\n",
       "      <td>d</td>\n",
       "      <td>w</td>\n",
       "    </tr>\n",
       "    <tr>\n",
       "      <th>3</th>\n",
       "      <td>p</td>\n",
       "      <td>14.17</td>\n",
       "      <td>f</td>\n",
       "      <td>h</td>\n",
       "      <td>e</td>\n",
       "      <td>f</td>\n",
       "      <td>e</td>\n",
       "      <td>NaN</td>\n",
       "      <td>w</td>\n",
       "      <td>15.77</td>\n",
       "      <td>15.98</td>\n",
       "      <td>s</td>\n",
       "      <td>y</td>\n",
       "      <td>w</td>\n",
       "      <td>w</td>\n",
       "      <td>t</td>\n",
       "      <td>p</td>\n",
       "      <td>NaN</td>\n",
       "      <td>d</td>\n",
       "      <td>w</td>\n",
       "    </tr>\n",
       "    <tr>\n",
       "      <th>4</th>\n",
       "      <td>p</td>\n",
       "      <td>14.64</td>\n",
       "      <td>x</td>\n",
       "      <td>h</td>\n",
       "      <td>o</td>\n",
       "      <td>f</td>\n",
       "      <td>e</td>\n",
       "      <td>NaN</td>\n",
       "      <td>w</td>\n",
       "      <td>16.53</td>\n",
       "      <td>17.20</td>\n",
       "      <td>s</td>\n",
       "      <td>y</td>\n",
       "      <td>w</td>\n",
       "      <td>w</td>\n",
       "      <td>t</td>\n",
       "      <td>p</td>\n",
       "      <td>NaN</td>\n",
       "      <td>d</td>\n",
       "      <td>w</td>\n",
       "    </tr>\n",
       "  </tbody>\n",
       "</table>\n",
       "</div>"
      ],
      "text/plain": [
       "  class  cap-diameter cap-shape cap-surface cap-color does-bruise-or-bleed  \\\n",
       "0     p         15.26         x           g         o                    f   \n",
       "1     p         16.60         x           g         o                    f   \n",
       "2     p         14.07         x           g         o                    f   \n",
       "3     p         14.17         f           h         e                    f   \n",
       "4     p         14.64         x           h         o                    f   \n",
       "\n",
       "  gill-attachment gill-spacing gill-color  stem-height  stem-width stem-root  \\\n",
       "0               e          NaN          w        16.95       17.09         s   \n",
       "1               e          NaN          w        17.99       18.19         s   \n",
       "2               e          NaN          w        17.80       17.74         s   \n",
       "3               e          NaN          w        15.77       15.98         s   \n",
       "4               e          NaN          w        16.53       17.20         s   \n",
       "\n",
       "  stem-surface stem-color veil-color has-ring ring-type spore-print-color  \\\n",
       "0            y          w          w        t         g               NaN   \n",
       "1            y          w          w        t         g               NaN   \n",
       "2            y          w          w        t         g               NaN   \n",
       "3            y          w          w        t         p               NaN   \n",
       "4            y          w          w        t         p               NaN   \n",
       "\n",
       "  habitat season  \n",
       "0       d      w  \n",
       "1       d      u  \n",
       "2       d      w  \n",
       "3       d      w  \n",
       "4       d      w  "
      ]
     },
     "execution_count": 860,
     "metadata": {},
     "output_type": "execute_result"
    }
   ],
   "source": [
    "df.head()"
   ]
  },
  {
   "cell_type": "code",
   "execution_count": 861,
   "id": "f1e3d024",
   "metadata": {},
   "outputs": [
    {
     "data": {
      "text/plain": [
       "p    33888\n",
       "e    27181\n",
       "Name: class, dtype: int64"
      ]
     },
     "execution_count": 861,
     "metadata": {},
     "output_type": "execute_result"
    }
   ],
   "source": [
    "df['class'].value_counts()"
   ]
  },
  {
   "cell_type": "code",
   "execution_count": 862,
   "id": "d02c5bee",
   "metadata": {},
   "outputs": [],
   "source": [
    "#from this we can see the dataset is almost balanced"
   ]
  },
  {
   "cell_type": "code",
   "execution_count": 863,
   "id": "e9200f1b",
   "metadata": {},
   "outputs": [],
   "source": [
    "df[\"class\"].replace('e', 1, inplace=True)\n",
    "df[\"class\"].replace('p', 0, inplace=True)"
   ]
  },
  {
   "cell_type": "markdown",
   "id": "2b19001a",
   "metadata": {},
   "source": [
    "## Model planning"
   ]
  },
  {
   "cell_type": "code",
   "execution_count": 864,
   "id": "e353dd51",
   "metadata": {},
   "outputs": [],
   "source": [
    "cap_diameter = df[\"cap-diameter\"]\n",
    "stem_height = df[\"stem-height\"]\n",
    "stem_width = df[\"stem-width\"]\n",
    "\n",
    "class_ = df.iloc[:, 0]"
   ]
  },
  {
   "cell_type": "code",
   "execution_count": 865,
   "id": "59890529",
   "metadata": {},
   "outputs": [
    {
     "data": {
      "image/png": "[encoded data removed]",
      "text/plain": [
       "<Figure size 432x288 with 1 Axes>"
      ]
     },
     "metadata": {
      "needs_background": "light"
     },
     "output_type": "display_data"
    }
   ],
   "source": [
    "plt.scatter(cap_diameter, stem_height, c=class_)\n",
    "plt.xlabel('Cap Diameter (cm)')\n",
    "plt.ylabel('Stem Height (cm)')\n",
    "plt.show()"
   ]
  },
  {
   "cell_type": "code",
   "execution_count": 866,
   "id": "970d46f1",
   "metadata": {},
   "outputs": [
    {
     "data": {
      "image/png": "[encoded data removed]",
      "text/plain": [
       "<Figure size 432x288 with 1 Axes>"
      ]
     },
     "metadata": {
      "needs_background": "light"
     },
     "output_type": "display_data"
    }
   ],
   "source": [
    "plt.scatter(cap_diameter, stem_width, c=class_)\n",
    "plt.xlabel('Cap Diameter (cm)')\n",
    "plt.ylabel('Stem Width (mm)')\n",
    "plt.show()"
   ]
  },
  {
   "cell_type": "code",
   "execution_count": 867,
   "id": "b5fd37c1",
   "metadata": {},
   "outputs": [
    {
     "data": {
      "image/png": "[encoded data removed]",
      "text/plain": [
       "<Figure size 432x288 with 1 Axes>"
      ]
     },
     "metadata": {
      "needs_background": "light"
     },
     "output_type": "display_data"
    }
   ],
   "source": [
    "plt.scatter(stem_height, stem_width, c=class_)\n",
    "plt.xlabel('Stem Height (cm)')\n",
    "plt.ylabel('Stem Width (mm)')\n",
    "plt.show()"
   ]
  },
  {
   "cell_type": "code",
   "execution_count": 868,
   "id": "ccc987d8",
   "metadata": {},
   "outputs": [],
   "source": [
    "df = shuffle(df)"
   ]
  },
  {
   "cell_type": "code",
   "execution_count": 869,
   "id": "b74466b2",
   "metadata": {},
   "outputs": [],
   "source": [
    "#plt.figure(figsize=(140,120))\n",
    "#sns.heatmap(df.corr(),linewidths=.1,cmap=\"Blues\", annot=True, annot_kws={\"size\": 7})\n",
    "#plt.yticks(rotation=0);"
   ]
  },
  {
   "cell_type": "markdown",
   "id": "01179f4d",
   "metadata": {},
   "source": [
    "## Modelling"
   ]
  },
  {
   "cell_type": "code",
   "execution_count": 870,
   "id": "54f3aa5c",
   "metadata": {},
   "outputs": [],
   "source": [
    "#creating dummies\n",
    "cap_shape = pd.get_dummies(df['cap-shape'], prefix='Cap_shape')\n",
    "cap_surface = pd.get_dummies(df['cap-surface'], prefix='Cap_surface')\n",
    "stem_color = pd.get_dummies(df['stem-color'], prefix='Stem_colour')\n",
    "gill_attachment = pd.get_dummies(df['gill-attachment'], prefix='Gill_attachment')\n",
    "gill_spacing = pd.get_dummies(df['gill-spacing'], prefix='Gill_spacing')\n",
    "stem_color = pd.get_dummies(df['stem-color'], prefix='Stem_color')\n",
    "has_ring = pd.get_dummies(df['has-ring'], prefix='Has_ring')\n",
    "ring_type = pd.get_dummies(df['ring-type'], prefix='Ring_type')\n",
    "habitat = pd.get_dummies(df['habitat'], prefix='Habitat')\n",
    "season = pd.get_dummies(df['season'], prefix='Seasons')"
   ]
  },
  {
   "cell_type": "code",
   "execution_count": 871,
   "id": "476b8db9",
   "metadata": {},
   "outputs": [],
   "source": [
    "#concatenating the dummies\n",
    "df_dummies = pd.concat([cap_shape, cap_surface, stem_color, gill_attachment, gill_spacing, stem_color, has_ring, ring_type, habitat, season, df[[\"stem-height\",\"stem-width\",\"cap-diameter\",\"class\"]]], axis=1, sort=False)"
   ]
  },
  {
   "cell_type": "code",
   "execution_count": 872,
   "id": "0131da8d",
   "metadata": {},
   "outputs": [],
   "source": [
    "# split into features & target\n",
    "X_data = df_dummies.drop(columns = ['class'])\n",
    "y_data = df_dummies['class']"
   ]
  },
  {
   "cell_type": "code",
   "execution_count": 873,
   "id": "d5b1831d",
   "metadata": {},
   "outputs": [
    {
     "name": "stdout",
     "output_type": "stream",
     "text": [
      "Number of data points in the training set is:  54962\n",
      "Number of data points in the testing set is:   6107\n"
     ]
    }
   ],
   "source": [
    "#split the data into: features_train, features_test, labels_train, labels_test\n",
    "features_train, features_test, labels_train, labels_test = train_test_split(X_data, y_data, test_size=0.1)\n",
    "\n",
    "\n",
    "print(\"Number of data points in the training set is: \", len(labels_train))\n",
    "print(\"Number of data points in the testing set is:  \", len(labels_test))"
   ]
  },
  {
   "cell_type": "code",
   "execution_count": 874,
   "id": "ff15f371",
   "metadata": {},
   "outputs": [
    {
     "data": {
      "text/plain": [
       "DecisionTreeClassifier(random_state=42)"
      ]
     },
     "execution_count": 874,
     "metadata": {},
     "output_type": "execute_result"
    }
   ],
   "source": [
    "#fit the DT model\n",
    "dt = DecisionTreeClassifier(random_state = 42)\n",
    "dt.fit(features_train, labels_train)"
   ]
  },
  {
   "cell_type": "code",
   "execution_count": 875,
   "id": "71af47e7",
   "metadata": {},
   "outputs": [
    {
     "name": "stdout",
     "output_type": "stream",
     "text": [
      "Decision Tree Classifier report: \n",
      "\n",
      "               precision    recall  f1-score   support\n",
      "\n",
      "           0       1.00      1.00      1.00      3344\n",
      "           1       1.00      1.00      1.00      2763\n",
      "\n",
      "    accuracy                           1.00      6107\n",
      "   macro avg       1.00      1.00      1.00      6107\n",
      "weighted avg       1.00      1.00      1.00      6107\n",
      "\n",
      "Test Accuracy: 99.72%\n"
     ]
    }
   ],
   "source": [
    "y_pred_dt = dt.predict(features_test)\n",
    "print(\"Decision Tree Classifier report: \\n\\n\", classification_report(labels_test, y_pred_dt))\n",
    "\n",
    "baseline = \"Test Accuracy: {}%\".format(round(dt.score(features_test, labels_test)*100, 2))\n",
    "print(baseline)"
   ]
  },
  {
   "cell_type": "markdown",
   "id": "7b1ec58d",
   "metadata": {},
   "source": [
    "## Tuning"
   ]
  },
  {
   "cell_type": "code",
   "execution_count": 876,
   "id": "f16b890a",
   "metadata": {},
   "outputs": [
    {
     "data": {
      "image/png": "[encoded data removed]",
      "text/plain": [
       "<Figure size 576x1440 with 1 Axes>"
      ]
     },
     "metadata": {
      "needs_background": "light"
     },
     "output_type": "display_data"
    }
   ],
   "source": [
    "#calculate feature importance\n",
    "features_list = X_data.columns.values\n",
    "feature_importance = dt.feature_importances_\n",
    "sorted_idx = np.argsort(feature_importance)\n",
    "plt.figure(figsize=(8,20))\n",
    "\n",
    "plt.barh(range(len(sorted_idx)), feature_importance[sorted_idx], align='center', color =\"red\")\n",
    "plt.yticks(range(len(sorted_idx)), features_list[sorted_idx])\n",
    "plt.xlabel('Importance')\n",
    "plt.title('Feature importance')\n",
    "plt.draw()\n",
    "plt.show()"
   ]
  },
  {
   "cell_type": "code",
   "execution_count": 877,
   "id": "3e472215",
   "metadata": {},
   "outputs": [],
   "source": [
    "feature_names = df_dummies.drop(\"class\",axis=1).columns\n",
    "class_names = X_data.columns.values"
   ]
  },
  {
   "cell_type": "code",
   "execution_count": 878,
   "id": "61e45d4b",
   "metadata": {},
   "outputs": [],
   "source": [
    "#plt.figure(figsize=(4,4), dpi=1000)\n",
    "#plot_tree(dt, feature_names=feature_names, class_names=class_names, filled=True)\n",
    "#plt.show()"
   ]
  },
  {
   "cell_type": "code",
   "execution_count": 879,
   "id": "4db5f1f8",
   "metadata": {},
   "outputs": [
    {
     "name": "stdout",
     "output_type": "stream",
     "text": [
      "24\n",
      "412\n"
     ]
    }
   ],
   "source": [
    "print(dt.get_depth())\n",
    "print(dt.get_n_leaves())"
   ]
  },
  {
   "cell_type": "code",
   "execution_count": 880,
   "id": "97faece3",
   "metadata": {},
   "outputs": [],
   "source": [
    "EPS = 10 ** -6"
   ]
  },
  {
   "cell_type": "code",
   "execution_count": 881,
   "id": "401e40d1",
   "metadata": {},
   "outputs": [],
   "source": [
    "#pre-pruning\n",
    "min_samples_leaf_grid_search = GridSearchCV(\n",
    "    estimator=DecisionTreeClassifier(random_state=42),\n",
    "    scoring=make_scorer(accuracy_score),\n",
    "    param_grid=ParameterGrid(\n",
    "        {\n",
    "            \"min_samples_leaf\": [\n",
    "                [min_samples_leaf] for min_samples_leaf in np.arange(EPS, 0.5, 0.025)\n",
    "            ]\n",
    "        }\n",
    "    ),\n",
    ")"
   ]
  },
  {
   "cell_type": "code",
   "execution_count": 882,
   "id": "03140e09",
   "metadata": {},
   "outputs": [
    {
     "data": {
      "text/plain": [
       "GridSearchCV(estimator=DecisionTreeClassifier(random_state=42),\n",
       "             param_grid=<sklearn.model_selection._search.ParameterGrid object at 0x000002B451D6DB20>,\n",
       "             scoring=make_scorer(accuracy_score))"
      ]
     },
     "execution_count": 882,
     "metadata": {},
     "output_type": "execute_result"
    }
   ],
   "source": [
    "min_samples_leaf_grid_search.fit(features_train, labels_train)"
   ]
  },
  {
   "cell_type": "code",
   "execution_count": 883,
   "id": "9b43071a",
   "metadata": {},
   "outputs": [],
   "source": [
    "best_min_samples_leaf_tree = min_samples_leaf_grid_search.best_estimator_"
   ]
  },
  {
   "cell_type": "code",
   "execution_count": 884,
   "id": "391bf650",
   "metadata": {},
   "outputs": [
    {
     "name": "stdout",
     "output_type": "stream",
     "text": [
      "24\n",
      "412\n"
     ]
    }
   ],
   "source": [
    "print(best_min_samples_leaf_tree.get_depth())\n",
    "print(best_min_samples_leaf_tree.get_n_leaves())"
   ]
  },
  {
   "cell_type": "code",
   "execution_count": 885,
   "id": "8004de72",
   "metadata": {},
   "outputs": [],
   "source": [
    "#plt.figure(figsize=(4, 4), dpi=1000)\n",
    "#plot_tree(\n",
    "#    best_min_samples_leaf_tree,\n",
    " #   feature_names=feature_names,\n",
    "  #  class_names=class_names,\n",
    "   # filled=True,\n",
    "#)\n",
    "#plt.show()"
   ]
  },
  {
   "cell_type": "code",
   "execution_count": 886,
   "id": "948bc3be",
   "metadata": {},
   "outputs": [
    {
     "name": "stdout",
     "output_type": "stream",
     "text": [
      "Test Accuracy: 99.72%\n",
      "Test Accuracy: 99.72%\n"
     ]
    }
   ],
   "source": [
    "print(baseline)\n",
    "print(\"Test Accuracy: {}%\".format(round(best_min_samples_leaf_tree.score(features_test, labels_test)*100, 2)))"
   ]
  },
  {
   "cell_type": "code",
   "execution_count": 887,
   "id": "765da725",
   "metadata": {},
   "outputs": [],
   "source": [
    "#lowering the max_depth seems to be \"underfitting\" the data"
   ]
  },
  {
   "cell_type": "code",
   "execution_count": 888,
   "id": "37faebcc",
   "metadata": {},
   "outputs": [],
   "source": [
    "#post-pruning"
   ]
  },
  {
   "cell_type": "code",
   "execution_count": 889,
   "id": "a4265044",
   "metadata": {},
   "outputs": [],
   "source": [
    "#To get the different applicable alpha values and corresponding impurity in the leaf nodes introduced due to that, we can use the cost_complexity_pruning_path function present in the DecisionTreeClassifier class.\n",
    "ccp_alphas = dt.cost_complexity_pruning_path(features_train,labels_train)[\"ccp_alphas\"]"
   ]
  },
  {
   "cell_type": "code",
   "execution_count": null,
   "id": "bd7f3731",
   "metadata": {},
   "outputs": [],
   "source": [
    "#Finding an optimal value of alpha using a loop\n",
    "clfs = []\n",
    "for ccp_alpha in ccp_alphas:\n",
    "    clf = DecisionTreeClassifier(random_state=42, ccp_alpha=ccp_alpha)\n",
    "    clf.fit(features_train, labels_train)\n",
    "    clfs.append(clf)\n",
    "print(\n",
    "    \"Number of nodes in the last tree is: {} with ccp_alpha: {}\".format(\n",
    "        clfs[-1].tree_.node_count, ccp_alphas[-1]\n",
    "    )\n",
    ")"
   ]
  },
  {
   "cell_type": "code",
   "execution_count": null,
   "id": "3e9ab736",
   "metadata": {},
   "outputs": [],
   "source": [
    "#As we already know that there is a strong relation between, alpha and the depth of the tree. We can find the relation using this plot.\n",
    "tree_depths = [clf.tree_.max_depth for clf in clfs]\n",
    "plt.figure(figsize=(10,  6))\n",
    "plt.plot(ccp_alphas[:-1], tree_depths[:-1])\n",
    "plt.xlabel(\"effective alpha\")\n",
    "plt.ylabel(\"total depth\")"
   ]
  },
  {
   "cell_type": "code",
   "execution_count": null,
   "id": "616462ca",
   "metadata": {},
   "outputs": [],
   "source": [
    "#Use the following code to find the relation between alpha and accuracy.\n",
    "from sklearn.metrics import accuracy_score\n",
    "\n",
    "acc_scores = [accuracy_score(labels_test, clf.predict(features_test)) for clf in clfs]\n",
    "\n",
    "tree_depths = [clf.tree_.max_depth for clf in clfs]\n",
    "plt.figure(figsize=(10,  6))\n",
    "plt.grid()\n",
    "plt.plot(ccp_alphas[:-1], acc_scores[:-1])\n",
    "plt.xlabel(\"effective alpha\")\n",
    "plt.ylabel(\"Accuracy scores\")"
   ]
  },
  {
   "cell_type": "code",
   "execution_count": null,
   "id": "a59582fe",
   "metadata": {},
   "outputs": [],
   "source": [
    "#alpha = 0 is the best choice"
   ]
  },
  {
   "cell_type": "markdown",
   "id": "1e636827",
   "metadata": {},
   "source": [
    "## Proof of concept"
   ]
  },
  {
   "cell_type": "code",
   "execution_count": null,
   "id": "429ba16a",
   "metadata": {},
   "outputs": [],
   "source": [
    "# Proof of concept model below"
   ]
  },
  {
   "cell_type": "code",
   "execution_count": null,
   "id": "8826a5dd",
   "metadata": {},
   "outputs": [],
   "source": [
    "#final model with parameters\n",
    "\n",
    "# split into features & target\n",
    "X_data = df_dummies.drop(columns = ['class'])\n",
    "y_data = df_dummies['class']\n",
    "\n",
    "features_train, features_test, labels_train, labels_test = train_test_split(X_data, y_data, test_size=0.1)\n",
    "\n",
    "dt = DecisionTreeClassifier(random_state = 42)\n",
    "dt.fit(features_train, labels_train)\n",
    "\n",
    "y_pred_dt = dt.predict(features_test)\n",
    "print(baseline)\n",
    "print(\"Test Accuracy: {}%\".format(round(dt.score(features_test, labels_test)*100, 2)))\n"
   ]
  },
  {
   "cell_type": "code",
   "execution_count": null,
   "id": "c62bb1dd",
   "metadata": {},
   "outputs": [],
   "source": [
    "tn, fp, fn, tp = confusion_matrix(labels_test, y_pred_dt).ravel()"
   ]
  },
  {
   "cell_type": "code",
   "execution_count": null,
   "id": "d71a9fb0",
   "metadata": {},
   "outputs": [],
   "source": [
    "(tn, fp, fn, tp)"
   ]
  },
  {
   "cell_type": "code",
   "execution_count": null,
   "id": "6f90cf1f",
   "metadata": {},
   "outputs": [],
   "source": [
    "\"In this test there are \" + str((tn, fp, fn, tp)[1]) + \" false positives from a test size of \" + str(len(labels_test))"
   ]
  },
  {
   "cell_type": "code",
   "execution_count": null,
   "id": "efc8c0fb",
   "metadata": {},
   "outputs": [],
   "source": []
  }
 ],
 "metadata": {
  "kernelspec": {
   "display_name": "Python 3",
   "language": "python",
   "name": "python3"
  },
  "language_info": {
   "codemirror_mode": {
    "name": "ipython",
    "version": 3
   },
   "file_extension": ".py",
   "mimetype": "text/x-python",
   "name": "python",
   "nbconvert_exporter": "python",
   "pygments_lexer": "ipython3",
   "version": "3.8.8"
  }
 },
 "nbformat": 4,
 "nbformat_minor": 5
}
